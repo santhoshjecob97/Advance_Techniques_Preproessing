{
 "cells": [
  {
   "cell_type": "code",
   "execution_count": 2,
   "id": "8b007ed0",
   "metadata": {},
   "outputs": [],
   "source": [
    "import pickle\n",
    "import pandas as pd"
   ]
  },
  {
   "cell_type": "code",
   "execution_count": 3,
   "id": "ccbab207",
   "metadata": {},
   "outputs": [],
   "source": [
    "dataset=pd.read_csv(\"50_Startups.csv\")"
   ]
  },
  {
   "cell_type": "code",
   "execution_count": 4,
   "id": "575de41f",
   "metadata": {},
   "outputs": [],
   "source": [
    "#To find the which type of categorical data - find nominal data to Convert the numerical the inputs - Data Collection\n",
    "dataset=pd.get_dummies(dataset,drop_first=True,dtype=int)"
   ]
  },
  {
   "cell_type": "code",
   "execution_count": 5,
   "id": "601ac21a",
   "metadata": {},
   "outputs": [],
   "source": [
    "#To Split the X_Train Dataset inputs - Split Input and Outputs\n",
    "independent=dataset[['R&D Spend', 'Administration', 'Marketing Spend','State_Florida', 'State_New York']]"
   ]
  },
  {
   "cell_type": "code",
   "execution_count": 6,
   "id": "d7cfc469",
   "metadata": {},
   "outputs": [],
   "source": [
    "dependent=dataset[[\"Profit\"]]"
   ]
  },
  {
   "cell_type": "code",
   "execution_count": 7,
   "id": "88dec1cf",
   "metadata": {},
   "outputs": [],
   "source": [
    "#To find the model selection\n",
    "from sklearn.model_selection import train_test_split\n",
    "X_train,X_test,y_train,y_test=train_test_split(independent, dependent, test_size=0.30, random_state=0)"
   ]
  },
  {
   "cell_type": "code",
   "execution_count": 8,
   "id": "f2e25afc",
   "metadata": {},
   "outputs": [],
   "source": [
    "#To select the model selection - Write Satndardisation Code Because R2 Value is low\n",
    "from sklearn.preprocessing import StandardScaler\n",
    "sc=StandardScaler()\n",
    "X_train=sc.fit_transform(X_train)\n",
    "X_test=sc.transform(X_test)"
   ]
  },
  {
   "cell_type": "code",
   "execution_count": 9,
   "id": "2debc9fa",
   "metadata": {},
   "outputs": [],
   "source": [
    "preinput=sc.transform([[12545,22252,33353,0,1]])"
   ]
  },
  {
   "cell_type": "code",
   "execution_count": 10,
   "id": "55ae8138",
   "metadata": {},
   "outputs": [],
   "source": [
    "#To Load the final model and To find the result\n",
    "loaded_model=pickle.load(open(\"finalized_model_SVMR_sav\",'rb'))\n",
    "result=loaded_model.predict(preinput)"
   ]
  },
  {
   "cell_type": "code",
   "execution_count": 11,
   "id": "0b14ad11",
   "metadata": {},
   "outputs": [
    {
     "data": {
      "text/plain": [
       "array([51750.54940605])"
      ]
     },
     "execution_count": 11,
     "metadata": {},
     "output_type": "execute_result"
    }
   ],
   "source": [
    "result"
   ]
  },
  {
   "cell_type": "code",
   "execution_count": 13,
   "id": "a8295e0b",
   "metadata": {},
   "outputs": [
    {
     "data": {
      "text/plain": [
       "['scaler.pkl']"
      ]
     },
     "execution_count": 13,
     "metadata": {},
     "output_type": "execute_result"
    }
   ],
   "source": [
    "from sklearn.preprocessing import StandardScaler\n",
    "import joblib\n",
    "\n",
    "sc = StandardScaler()\n",
    "X_train = sc.fit_transform(X_train)\n",
    "X_test = sc.transform(X_test)\n",
    "\n",
    "# Save the fitted scaler\n",
    "joblib.dump(sc, 'scaler.pkl')"
   ]
  },
  {
   "cell_type": "code",
   "execution_count": 14,
   "id": "6743c626",
   "metadata": {},
   "outputs": [],
   "source": [
    "import pickle\n",
    "\n",
    "# Save\n",
    "with open('scaler2.pkl', 'wb') as f:\n",
    "    pickle.dump(sc, f)\n",
    "\n",
    "# Load\n",
    "with open('scaler2.pkl', 'rb') as f:\n",
    "    sc = pickle.load(f)\n"
   ]
  },
  {
   "cell_type": "code",
   "execution_count": null,
   "id": "95426ed0",
   "metadata": {},
   "outputs": [],
   "source": []
  }
 ],
 "metadata": {
  "kernelspec": {
   "display_name": "Python 3 (ipykernel)",
   "language": "python",
   "name": "python3"
  },
  "language_info": {
   "codemirror_mode": {
    "name": "ipython",
    "version": 3
   },
   "file_extension": ".py",
   "mimetype": "text/x-python",
   "name": "python",
   "nbconvert_exporter": "python",
   "pygments_lexer": "ipython3",
   "version": "3.7.1"
  }
 },
 "nbformat": 4,
 "nbformat_minor": 5
}
